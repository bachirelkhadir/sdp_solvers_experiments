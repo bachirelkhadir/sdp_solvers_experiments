{
 "cells": [
  {
   "cell_type": "markdown",
   "metadata": {},
   "source": [
    "SDP relaxation of max-cut of graph $G = (V, E)$\n",
    "\n",
    "Primal:\n",
    "$$\\max \\frac14 \\langle L, X \\rangle \\quad X \\succeq 0, X_{ii} = 1$$ \n",
    "\n",
    "\n",
    "$L = D - A$ is laplacian of $G$, and $D$ is the diagonal degree matrix.\n",
    "\n",
    "Dual:\n",
    "$$\\min \\frac14{\\bf 1}^Ty \\quad diag(y) - L \\succeq 0$$ \n",
    "\n",
    "\n",
    "Using the change of variables $y = t {\\bf 1} -u$, where $u \\perp {\\bf 1}$, we can write the dual as an eigenvalue problem \n",
    "\n",
    "$$\\frac n4 \\min \\lambda_\\max(L + diag(u)) \\quad {\\bf 1}^Tu = 0$$"
   ]
  },
  {
   "cell_type": "code",
   "execution_count": 2,
   "metadata": {},
   "outputs": [
    {
     "name": "stdout",
     "output_type": "stream",
     "text": [
      "0.3605363368988037\n",
      "0.22232270240783691\n"
     ]
    }
   ],
   "source": [
    "import cupy as cp\n",
    "import time\n",
    "import numpy as np\n",
    "import picos as pic\n",
    "import matplotlib.pyplot as plt\n",
    "from scipy.io import mmread\n",
    "\n",
    "### Numpy and CPU\n",
    "s = time.time()\n",
    "x_cpu = np.ones((1000,1000,500))\n",
    "e = time.time()\n",
    "print(e - s)### CuPy and GPU\n",
    "s = time.time()\n",
    "x_gpu = cp.ones((1000,1000,500))\n",
    "cp.cuda.Stream.null.synchronize()\n",
    "e = time.time()\n",
    "print(e - s)"
   ]
  },
  {
   "cell_type": "code",
   "execution_count": 103,
   "metadata": {},
   "outputs": [
    {
     "data": {
      "text/html": [
       "<html><script type=\"math/tex; mode=display\">\\newcommand{\\Bold}[1]{\\mathbf{#1}}1000</script></html>"
      ],
      "text/plain": [
       "1000"
      ]
     },
     "metadata": {},
     "output_type": "display_data"
    },
    {
     "data": {
      "text/plain": [
       "array([[893., 892., 892., ..., 892., 892., 893.],\n",
       "       [892., 893., 892., ..., 892., 892., 892.],\n",
       "       [892., 892., 893., ..., 892., 892., 892.],\n",
       "       ...,\n",
       "       [892., 892., 892., ..., 893., 892., 892.],\n",
       "       [892., 892., 892., ..., 892., 893., 892.],\n",
       "       [893., 892., 892., ..., 892., 892., 893.]])"
      ]
     },
     "execution_count": 103,
     "metadata": {},
     "output_type": "execute_result"
    }
   ],
   "source": [
    "# n = 200\n",
    "# p = 0.5\n",
    "# A = np.random.rand(n, n) > p\n",
    "# A = A | A.T\n",
    "# for i in range(n): \n",
    "#     A[i, i] = 0\n",
    "A = mmread('graphs/C1000-9.mtx')\n",
    "n = A.shape[0]\n",
    "show(n)\n",
    "D = np.diag(np.sum(A, axis=int(0)))\n",
    "L = (D - A)#.astype(float)\n",
    "L = np.array(L)\n",
    "L"
   ]
  },
  {
   "cell_type": "code",
   "execution_count": 73,
   "metadata": {
    "code_folding": [
     2
    ]
   },
   "outputs": [
    {
     "name": "stdout",
     "output_type": "stream",
     "text": [
      "----------------------------------\n",
      "Semidefinite Program\n",
      "  maximize 0.25·⟨[1000×1000], X⟩\n",
      "  over\n",
      "    1000×1000 symmetric variable X\n",
      "  subject to\n",
      "    X ≽ 0\n",
      "    maindiag(X) = [1]\n",
      "----------------------------------\n",
      "===================================\n",
      "            PICOS 2.0.8            \n",
      "===================================\n",
      "Problem type: Semidefinite Program.\n",
      "Searching a solution strategy for MOSEK (Optimizer).\n",
      "Solution strategy:\n",
      "  1. ExtraOptions\n",
      "  2. MOSEKSolver\n",
      "Applying ExtraOptions.\n",
      "Building a MOSEK (Optimizer) problem instance.\n",
      "Starting solution search.\n",
      "-----------------------------------\n",
      "      MOSEK via Optimizer API      \n",
      "-----------------------------------\n",
      "Problem\n",
      "  Name                   :                 \n",
      "  Objective sense        : max             \n",
      "  Type                   : CONIC (conic optimization problem)\n",
      "  Constraints            : 501500          \n",
      "  Cones                  : 0               \n",
      "  Scalar variables       : 500500          \n",
      "  Matrix variables       : 1               \n",
      "  Integer variables      : 0               \n",
      "\n",
      "Optimizer started.\n"
     ]
    },
    {
     "name": "stderr",
     "output_type": "stream",
     "text": [
      "/home/bachir/Dev/sagemath/SageMath/local/lib/python3.7/site-packages/picos/solvers/solver_mosek.py:599: DeprecationWarning: Problem.verbosity is deprecated: Use Problem.options instead.\n",
      "  self.int.putintparam(mosek.iparam.log, self.ext.verbosity())\n"
     ]
    },
    {
     "name": "stdout",
     "output_type": "stream",
     "text": [
      "Presolve started.\n",
      "Linear dependency checker started.\n",
      "Linear dependency checker terminated.\n",
      "Eliminator started.\n",
      "Freed constraints in eliminator : 0\n",
      "Eliminator terminated.\n",
      "Eliminator started.\n",
      "Freed constraints in eliminator : 0\n",
      "Eliminator terminated.\n",
      "Eliminator - tries                  : 2                 time                   : 0.00            \n",
      "Lin. dep.  - tries                  : 1                 time                   : 0.06            \n",
      "Lin. dep.  - number                 : 0               \n",
      "Presolve terminated. Time: 0.36    \n",
      "MOSEK error 1051: Out of space.\n",
      "Optimizer terminated. Time: 1.52    \n",
      "\n"
     ]
    },
    {
     "ename": "Error",
     "evalue": "rescode.err_space(1051): Out of space.",
     "output_type": "error",
     "traceback": [
      "\u001b[0;31m---------------------------------------------------------------------------\u001b[0m",
      "\u001b[0;31mError\u001b[0m                                     Traceback (most recent call last)",
      "\u001b[0;32m<ipython-input-73-6f9e7e965318>\u001b[0m in \u001b[0;36m<module>\u001b[0;34m()\u001b[0m\n\u001b[1;32m     25\u001b[0m     \u001b[0;32mreturn\u001b[0m \u001b[0mmaxcut_problem\u001b[0m\u001b[0;34m.\u001b[0m\u001b[0mvalue\u001b[0m\u001b[0;34m\u001b[0m\u001b[0;34m\u001b[0m\u001b[0m\n\u001b[1;32m     26\u001b[0m \u001b[0;34m\u001b[0m\u001b[0m\n\u001b[0;32m---> 27\u001b[0;31m \u001b[0my_base\u001b[0m \u001b[0;34m=\u001b[0m \u001b[0mpicos_solve_maxcut\u001b[0m\u001b[0;34m(\u001b[0m\u001b[0mL\u001b[0m\u001b[0;34m,\u001b[0m \u001b[0;34m\"mosek\"\u001b[0m\u001b[0;34m,\u001b[0m \u001b[0mInteger\u001b[0m\u001b[0;34m(\u001b[0m\u001b[0;36m1\u001b[0m\u001b[0;34m)\u001b[0m\u001b[0;34m)\u001b[0m\u001b[0;34m\u001b[0m\u001b[0;34m\u001b[0m\u001b[0m\n\u001b[0m\u001b[1;32m     28\u001b[0m \u001b[0mshow\u001b[0m\u001b[0;34m(\u001b[0m\u001b[0my_base\u001b[0m\u001b[0;34m)\u001b[0m\u001b[0;34m\u001b[0m\u001b[0;34m\u001b[0m\u001b[0m\n",
      "\u001b[0;32m<ipython-input-73-6f9e7e965318>\u001b[0m in \u001b[0;36mpicos_solve_maxcut\u001b[0;34m(L, solver, verbosity)\u001b[0m\n\u001b[1;32m     21\u001b[0m         \u001b[0mprint\u001b[0m\u001b[0;34m(\u001b[0m\u001b[0mmaxcut_problem\u001b[0m\u001b[0;34m)\u001b[0m\u001b[0;34m\u001b[0m\u001b[0;34m\u001b[0m\u001b[0m\n\u001b[1;32m     22\u001b[0m \u001b[0;34m\u001b[0m\u001b[0m\n\u001b[0;32m---> 23\u001b[0;31m     \u001b[0mmaxcut_problem\u001b[0m\u001b[0;34m.\u001b[0m\u001b[0msolve\u001b[0m\u001b[0;34m(\u001b[0m\u001b[0msolver\u001b[0m\u001b[0;34m=\u001b[0m\u001b[0msolver\u001b[0m\u001b[0;34m,\u001b[0m \u001b[0mverbosity\u001b[0m\u001b[0;34m=\u001b[0m\u001b[0mverbosity\u001b[0m\u001b[0;34m)\u001b[0m\u001b[0;34m\u001b[0m\u001b[0;34m\u001b[0m\u001b[0m\n\u001b[0m\u001b[1;32m     24\u001b[0m \u001b[0;34m\u001b[0m\u001b[0m\n\u001b[1;32m     25\u001b[0m     \u001b[0;32mreturn\u001b[0m \u001b[0mmaxcut_problem\u001b[0m\u001b[0;34m.\u001b[0m\u001b[0mvalue\u001b[0m\u001b[0;34m\u001b[0m\u001b[0;34m\u001b[0m\u001b[0m\n",
      "\u001b[0;32m/home/bachir/Dev/sagemath/SageMath/local/lib/python3.7/site-packages/picos/modeling/problem.py\u001b[0m in \u001b[0;36msolve\u001b[0;34m(self, **extra_options)\u001b[0m\n\u001b[1;32m   1647\u001b[0m \u001b[0;34m\u001b[0m\u001b[0m\n\u001b[1;32m   1648\u001b[0m             \u001b[0;31m# Execute the strategy to obtain one or more solutions.\u001b[0m\u001b[0;34m\u001b[0m\u001b[0;34m\u001b[0m\u001b[0;34m\u001b[0m\u001b[0m\n\u001b[0;32m-> 1649\u001b[0;31m             \u001b[0msolutions\u001b[0m \u001b[0;34m=\u001b[0m \u001b[0mself\u001b[0m\u001b[0;34m.\u001b[0m\u001b[0m_strategy\u001b[0m\u001b[0;34m.\u001b[0m\u001b[0mexecute\u001b[0m\u001b[0;34m(\u001b[0m\u001b[0;34m**\u001b[0m\u001b[0mextra_options\u001b[0m\u001b[0;34m)\u001b[0m\u001b[0;34m\u001b[0m\u001b[0;34m\u001b[0m\u001b[0m\n\u001b[0m\u001b[1;32m   1650\u001b[0m \u001b[0;34m\u001b[0m\u001b[0m\n\u001b[1;32m   1651\u001b[0m             \u001b[0;31m# Report how many solutions were obtained, select the first.\u001b[0m\u001b[0;34m\u001b[0m\u001b[0;34m\u001b[0m\u001b[0;34m\u001b[0m\u001b[0m\n",
      "\u001b[0;32m/home/bachir/Dev/sagemath/SageMath/local/lib/python3.7/site-packages/picos/modeling/strategy.py\u001b[0m in \u001b[0;36mexecute\u001b[0;34m(self, **extra_options)\u001b[0m\n\u001b[1;32m    149\u001b[0m         \u001b[0;31m# Defer solving to the first reformulation, which is responsible for\u001b[0m\u001b[0;34m\u001b[0m\u001b[0;34m\u001b[0m\u001b[0;34m\u001b[0m\u001b[0m\n\u001b[1;32m    150\u001b[0m         \u001b[0;31m# applying the extra options (i.e. ExtraOptions).\u001b[0m\u001b[0;34m\u001b[0m\u001b[0;34m\u001b[0m\u001b[0;34m\u001b[0m\u001b[0m\n\u001b[0;32m--> 151\u001b[0;31m         \u001b[0msolution\u001b[0m \u001b[0;34m=\u001b[0m \u001b[0mself\u001b[0m\u001b[0;34m.\u001b[0m\u001b[0mnodes\u001b[0m\u001b[0;34m[\u001b[0m\u001b[0;36m1\u001b[0m\u001b[0;34m]\u001b[0m\u001b[0;34m.\u001b[0m\u001b[0mexecute\u001b[0m\u001b[0;34m(\u001b[0m\u001b[0;34m**\u001b[0m\u001b[0mextra_options\u001b[0m\u001b[0;34m)\u001b[0m\u001b[0;34m\u001b[0m\u001b[0;34m\u001b[0m\u001b[0m\n\u001b[0m\u001b[1;32m    152\u001b[0m \u001b[0;34m\u001b[0m\u001b[0m\n\u001b[1;32m    153\u001b[0m         \u001b[0;31m# Attach the solution to the root problem. Note that reformulations are\u001b[0m\u001b[0;34m\u001b[0m\u001b[0;34m\u001b[0m\u001b[0;34m\u001b[0m\u001b[0m\n",
      "\u001b[0;32m/home/bachir/Dev/sagemath/SageMath/local/lib/python3.7/site-packages/picos/reforms/reform_options.py\u001b[0m in \u001b[0;36mexecute\u001b[0;34m(self, **extra_options)\u001b[0m\n\u001b[1;32m    105\u001b[0m \u001b[0;34m\u001b[0m\u001b[0m\n\u001b[1;32m    106\u001b[0m         \u001b[0;31m# Advance one step and return any solution as-is.\u001b[0m\u001b[0;34m\u001b[0m\u001b[0;34m\u001b[0m\u001b[0;34m\u001b[0m\u001b[0m\n\u001b[0;32m--> 107\u001b[0;31m         \u001b[0;32mreturn\u001b[0m \u001b[0mself\u001b[0m\u001b[0;34m.\u001b[0m\u001b[0msuccessor\u001b[0m\u001b[0;34m.\u001b[0m\u001b[0mexecute\u001b[0m\u001b[0;34m(\u001b[0m\u001b[0;34m)\u001b[0m\u001b[0;34m\u001b[0m\u001b[0;34m\u001b[0m\u001b[0m\n\u001b[0m\u001b[1;32m    108\u001b[0m \u001b[0;34m\u001b[0m\u001b[0m\n\u001b[1;32m    109\u001b[0m     \u001b[0;32mdef\u001b[0m \u001b[0mforward\u001b[0m\u001b[0;34m(\u001b[0m\u001b[0mself\u001b[0m\u001b[0;34m)\u001b[0m\u001b[0;34m:\u001b[0m\u001b[0;34m\u001b[0m\u001b[0;34m\u001b[0m\u001b[0m\n",
      "\u001b[0;32m/home/bachir/Dev/sagemath/SageMath/local/lib/python3.7/site-packages/picos/solvers/solver.py\u001b[0m in \u001b[0;36mexecute\u001b[0;34m(self)\u001b[0m\n\u001b[1;32m    601\u001b[0m         \u001b[0mself\u001b[0m\u001b[0;34m.\u001b[0m\u001b[0m_verbose\u001b[0m\u001b[0;34m(\u001b[0m\u001b[0;34m\"Starting solution search.\"\u001b[0m\u001b[0;34m)\u001b[0m\u001b[0;34m\u001b[0m\u001b[0;34m\u001b[0m\u001b[0m\n\u001b[1;32m    602\u001b[0m \u001b[0;34m\u001b[0m\u001b[0m\n\u001b[0;32m--> 603\u001b[0;31m         \u001b[0msolution\u001b[0m \u001b[0;34m=\u001b[0m \u001b[0mself\u001b[0m\u001b[0;34m.\u001b[0m\u001b[0m_solve\u001b[0m\u001b[0;34m(\u001b[0m\u001b[0;34m)\u001b[0m\u001b[0;34m\u001b[0m\u001b[0;34m\u001b[0m\u001b[0m\n\u001b[0m\u001b[1;32m    604\u001b[0m \u001b[0;34m\u001b[0m\u001b[0m\n\u001b[1;32m    605\u001b[0m         \u001b[0;32mif\u001b[0m \u001b[0misinstance\u001b[0m\u001b[0;34m(\u001b[0m\u001b[0msolution\u001b[0m\u001b[0;34m,\u001b[0m \u001b[0mlist\u001b[0m\u001b[0;34m)\u001b[0m\u001b[0;34m:\u001b[0m\u001b[0;34m\u001b[0m\u001b[0;34m\u001b[0m\u001b[0m\n",
      "\u001b[0;32m/home/bachir/Dev/sagemath/SageMath/local/lib/python3.7/site-packages/picos/solvers/solver_mosek.py\u001b[0m in \u001b[0;36m_solve\u001b[0;34m(self)\u001b[0m\n\u001b[1;32m    712\u001b[0m         \u001b[0;32mwith\u001b[0m \u001b[0mself\u001b[0m\u001b[0;34m.\u001b[0m\u001b[0m_header\u001b[0m\u001b[0;34m(\u001b[0m\u001b[0;34m)\u001b[0m\u001b[0;34m,\u001b[0m \u001b[0mself\u001b[0m\u001b[0;34m.\u001b[0m\u001b[0m_stopwatch\u001b[0m\u001b[0;34m(\u001b[0m\u001b[0;34m)\u001b[0m\u001b[0;34m:\u001b[0m\u001b[0;34m\u001b[0m\u001b[0;34m\u001b[0m\u001b[0m\n\u001b[1;32m    713\u001b[0m             \u001b[0;32mtry\u001b[0m\u001b[0;34m:\u001b[0m\u001b[0;34m\u001b[0m\u001b[0;34m\u001b[0m\u001b[0m\n\u001b[0;32m--> 714\u001b[0;31m                 \u001b[0mself\u001b[0m\u001b[0;34m.\u001b[0m\u001b[0mint\u001b[0m\u001b[0;34m.\u001b[0m\u001b[0moptimize\u001b[0m\u001b[0;34m(\u001b[0m\u001b[0;34m)\u001b[0m\u001b[0;34m\u001b[0m\u001b[0;34m\u001b[0m\u001b[0m\n\u001b[0m\u001b[1;32m    715\u001b[0m             \u001b[0;32mexcept\u001b[0m \u001b[0mmosek\u001b[0m\u001b[0;34m.\u001b[0m\u001b[0mError\u001b[0m \u001b[0;32mas\u001b[0m \u001b[0merror\u001b[0m\u001b[0;34m:\u001b[0m\u001b[0;34m\u001b[0m\u001b[0;34m\u001b[0m\u001b[0m\n\u001b[1;32m    716\u001b[0m                 if error.errno in (\n",
      "\u001b[0;32m/home/bachir/Dev/sagemath/SageMath/local/lib/python3.7/site-packages/mosek/__init__.py\u001b[0m in \u001b[0;36moptimize\u001b[0;34m(self)\u001b[0m\n\u001b[1;32m   7625\u001b[0m       \u001b[0;32mif\u001b[0m \u001b[0mres\u001b[0m \u001b[0;34m!=\u001b[0m \u001b[0;36m0\u001b[0m\u001b[0;34m:\u001b[0m\u001b[0;34m\u001b[0m\u001b[0;34m\u001b[0m\u001b[0m\n\u001b[1;32m   7626\u001b[0m         \u001b[0mresult\u001b[0m\u001b[0;34m,\u001b[0m\u001b[0mmsg\u001b[0m \u001b[0;34m=\u001b[0m \u001b[0mself\u001b[0m\u001b[0;34m.\u001b[0m\u001b[0m__getlasterror\u001b[0m\u001b[0;34m(\u001b[0m\u001b[0mres\u001b[0m\u001b[0;34m)\u001b[0m\u001b[0;34m\u001b[0m\u001b[0;34m\u001b[0m\u001b[0m\n\u001b[0;32m-> 7627\u001b[0;31m         \u001b[0;32mraise\u001b[0m \u001b[0mError\u001b[0m\u001b[0;34m(\u001b[0m\u001b[0mrescode\u001b[0m\u001b[0;34m(\u001b[0m\u001b[0mres\u001b[0m\u001b[0;34m)\u001b[0m\u001b[0;34m,\u001b[0m\u001b[0mmsg\u001b[0m\u001b[0;34m)\u001b[0m\u001b[0;34m\u001b[0m\u001b[0;34m\u001b[0m\u001b[0m\n\u001b[0m\u001b[1;32m   7628\u001b[0m       \u001b[0m__arg1_trmcode_return_value\u001b[0m \u001b[0;34m=\u001b[0m \u001b[0mresargs\u001b[0m\u001b[0;34m\u001b[0m\u001b[0;34m\u001b[0m\u001b[0m\n\u001b[1;32m   7629\u001b[0m       \u001b[0m__arg1_trmcode_return_value\u001b[0m \u001b[0;34m=\u001b[0m \u001b[0mrescode\u001b[0m\u001b[0;34m(\u001b[0m\u001b[0m__arg1_trmcode_return_value\u001b[0m\u001b[0;34m)\u001b[0m\u001b[0;34m\u001b[0m\u001b[0;34m\u001b[0m\u001b[0m\n",
      "\u001b[0;31mError\u001b[0m: rescode.err_space(1051): Out of space."
     ]
    }
   ],
   "source": [
    "def picos_solve_maxcut(L, solver, verbosity):\n",
    "    maxcut_problem = pic.Problem()\n",
    "\n",
    "    # Parameter\n",
    "    L_param = pic.Constant(\"L\", L, shape=(n, n))\n",
    "\n",
    "    # Variables\n",
    "    X = pic.SymmetricVariable(\"X\", shape=int(n))\n",
    "\n",
    "\n",
    "    ## Objective\n",
    "    maxcut_problem.set_objective('max', float(1/4.) * (L|X))\n",
    "\n",
    "    ## Constraints\n",
    "    # X psd\n",
    "    maxcut_problem.add_constraint(X >> int(0))\n",
    "    # 1 on the diagonal\n",
    "    maxcut_problem.add_constraint(pic.maindiag(X) == int(1))\n",
    "\n",
    "    if verbosity:\n",
    "        print(maxcut_problem)\n",
    "\n",
    "    maxcut_problem.solve(solver=solver, verbosity=verbosity)\n",
    "    \n",
    "    return maxcut_problem.value\n",
    "\n",
    "y_base = picos_solve_maxcut(L, \"mosek\", 1)\n",
    "show(y_base)"
   ]
  },
  {
   "cell_type": "markdown",
   "metadata": {},
   "source": [
    "# First order method for solving $\\min_{x \\in Q} \\lambda_\\max(A(x)) + c^Tx$\n",
    "\n",
    "For $t=1,\\ldots$, set $x_{t+1} = P_Q(x_t - \\gamma \\partial \\lambda_\\max(A(x))$.\n",
    "\n",
    "Here, $x = u$, $Q = \\{u \\; {\\bf 1}^T u = 0$, $A(u) = L + diag(u)$, $P_Q(u) = u - {\\bf 1}^Tu$."
   ]
  },
  {
   "cell_type": "code",
   "execution_count": 219,
   "metadata": {
    "code_folding": []
   },
   "outputs": [],
   "source": [
    "class MaxCutSubGradientSolverGPU:\n",
    "    def __init__(self, L, step_size, num_steps, eig_method):\n",
    "        self.L = cp.array(L)\n",
    "        self.n = L.shape[0]\n",
    "        self.step_size = float(step_size)\n",
    "        self.num_steps = num_steps\n",
    "        self.eig_method = eig_method\n",
    "        \n",
    "        self.x0 = cp.random.randn(n)\n",
    "        self.num_power_iterations = 100\n",
    "        \n",
    "    def projection_Q(self, u):\n",
    "        return u - cp.mean(u)\n",
    "\n",
    "    def Au(self, u):\n",
    "        return cp.diag(u) + self.L\n",
    "\n",
    "    def objective_value(self, u):\n",
    "        return float(self.n/float(4)) * self.lambda_max(self.Au(u))\n",
    "\n",
    "    def lambda_max(self, A):\n",
    "        return cp.max(cp.linalg.eigenvalue.eigvalsh(A))\n",
    "\n",
    "    def top_eigenvec(self, A):\n",
    "        \n",
    "#         vals, vecs = cp.linalg.eigh(A)\n",
    "#         idx = int(cp.argmax(vals))\n",
    "#         top_eigvec = vecs[:, idx]\n",
    "        x = self.x0\n",
    "        for _ in range(self.num_power_iterations):\n",
    "            x = A @ x\n",
    "            x /= cp.linalg.norm(x)\n",
    "        return x\n",
    "\n",
    "\n",
    "    def diff_lambda_max(self, A):\n",
    "        top_eigvec = self.top_eigenvec(A)\n",
    "        return top_eigvec**float(2.)\n",
    "\n",
    "\n",
    "    def __call__(self, u_0):\n",
    "        u = cp.array(u_0)\n",
    "        obj_value_history = []\n",
    "\n",
    "        for i in range(self.num_steps):\n",
    "            if i % 10 == 0:\n",
    "                obj_value_history.append(float(cp.asnumpy(self.objective_value(u))))            \n",
    "            u_next = u - self.step_size * self.diff_lambda_max(self.Au(u))\n",
    "            u = self.projection_Q(u_next)\n",
    "#             print(i, u[:3])\n",
    "#             print(self.step_size)\n",
    "#             print(self.diff_lambda_max(self.Au(u))[:3])\n",
    "        return obj_value_history\n"
   ]
  },
  {
   "cell_type": "code",
   "execution_count": 233,
   "metadata": {},
   "outputs": [
    {
     "name": "stdout",
     "output_type": "stream",
     "text": [
      "CPU times: user 19min 5s, sys: 1min 37s, total: 20min 42s\n",
      "Wall time: 20min 45s\n"
     ]
    },
    {
     "data": {
      "image/png": "[encoded data removed]",
      "text/plain": [
       "<Figure size 432x288 with 1 Axes>"
      ]
     },
     "metadata": {},
     "output_type": "display_data"
    },
    {
     "data": {
      "image/png": "[encoded data removed]",
      "text/plain": [
       "<Figure size 432x288 with 1 Axes>"
      ]
     },
     "metadata": {},
     "output_type": "display_data"
    }
   ],
   "source": [
    "%%time\n",
    "\n",
    "np.random.seed(1)\n",
    "u_0 = np.random.randn(n)\n",
    "solver = MaxCutSubGradientSolverGPU(L,\n",
    "    step_size = 10.,\n",
    "    num_steps = 100000,\n",
    "    eig_method = 'gpu',)\n",
    "solver.num_power_iterations = 100\n",
    "#y_base = picos_solve_maxcut(L, \"cvxopt\", 0)\n",
    "history  = np.array(solver(u_0)) \n",
    "\n",
    "\n",
    "plt.plot(np.diff(history[1:]))\n",
    "#plt.yscale('symlog')\n",
    "plt.figure()\n",
    "plt.plot(history[1:])\n"
   ]
  },
  {
   "cell_type": "code",
   "execution_count": 230,
   "metadata": {},
   "outputs": [
    {
     "data": {
      "text/plain": [
       "[<matplotlib.lines.Line2D object at 0x7f6126a30c18>]"
      ]
     },
     "execution_count": 230,
     "metadata": {},
     "output_type": "execute_result"
    },
    {
     "data": {
      "image/png": "[encoded data removed]",
      "text/plain": [
       "<Figure size 432x288 with 1 Axes>"
      ]
     },
     "metadata": {},
     "output_type": "display_data"
    }
   ],
   "source": [
    "plt.plot(np.diff(history[2:]))\n"
   ]
  },
  {
   "cell_type": "code",
   "execution_count": 147,
   "metadata": {
    "code_folding": [
     0
    ]
   },
   "outputs": [],
   "source": [
    "class MaxCutSubGradientSolver:\n",
    "    def __init__(self, L, step_size, num_steps, eig_method):\n",
    "        self.L = L\n",
    "        self.n = L.shape[0]\n",
    "        self.step_size = step_size\n",
    "        self.num_steps = num_steps\n",
    "        self.eig_method = eig_method\n",
    "        self.num_powers = 10\n",
    "        \n",
    "    def projection_Q(self, u):\n",
    "        return np.array(u) - np.mean(u)\n",
    "\n",
    "    def Au(self, u):\n",
    "        return np.diag(u) + self.L\n",
    "\n",
    "    def objective_value(self, u):\n",
    "        return float(self.n/float(4.)) * self.lambda_max(self.Au(u))\n",
    "\n",
    "    def lambda_max(self, A):\n",
    "        return float(cp.asnumpy(cp.max(cp.linalg.eigenvalue.eigvalsh(cp.array(A)))))\n",
    "\n",
    "    \n",
    "    def top_eigenvec(self, A):\n",
    "        if self.eig_method == 'gpu':\n",
    "            A = cp.asarray(A)\n",
    "            vals, vecs = cp.linalg.eigh(A)\n",
    "            idx = int(cp.argmax(vals))\n",
    "            top_eigvec = vecs[:, idx]\n",
    "            top_eigvec = cp.asnumpy(top_eigvec)\n",
    "        else:\n",
    "            vals, vecs = np.linalg.eig(A)\n",
    "            idx = np.argmax(vals)\n",
    "            top_eigvec = vecs[:, idx]\n",
    "        return top_eigvec\n",
    "\n",
    "\n",
    "    def top_eigenvec_powermethod(self, A):\n",
    "        x = np.random.randn(A.shape[0])\n",
    "        for _ in range(self.num_powers):\n",
    "            x = A@x\n",
    "            x /= np.linalg.norm(x)\n",
    "        return x\n",
    "\n",
    "\n",
    "    def diff_lambda_max(self, A):\n",
    "        if self.eig_method == 'power':\n",
    "            top_eigvec = self.top_eigenvec_powermethod(A)\n",
    "        else:\n",
    "            top_eigvec = self.top_eigenvec(A)\n",
    "        return top_eigvec**2\n",
    "\n",
    "\n",
    "    def __call__(self, u_0):\n",
    "        u = u_0\n",
    "        obj_value_history = []\n",
    "\n",
    "        for _ in range(self.num_steps):\n",
    "            obj_value_history.append(self.objective_value(u))\n",
    "            u = self.projection_Q(u - self.step_size * self.diff_lambda_max(self.Au(u)))\n",
    "\n",
    "        return obj_value_history\n"
   ]
  },
  {
   "cell_type": "code",
   "execution_count": 158,
   "metadata": {},
   "outputs": [
    {
     "ename": "TypeError",
     "evalue": "Unsupported type <class 'numpy.ndarray'>",
     "output_type": "error",
     "traceback": [
      "\u001b[0;31m---------------------------------------------------------------------------\u001b[0m",
      "\u001b[0;31mTypeError\u001b[0m                                 Traceback (most recent call last)",
      "\u001b[0;32m<ipython-input-158-73d8bc0ec08f>\u001b[0m in \u001b[0;36m<module>\u001b[0;34m()\u001b[0m\n\u001b[0;32m----> 1\u001b[0;31m \u001b[0msolver\u001b[0m\u001b[0;34m(\u001b[0m\u001b[0mu_0\u001b[0m\u001b[0;34m)\u001b[0m\u001b[0;34m\u001b[0m\u001b[0;34m\u001b[0m\u001b[0m\n\u001b[0m",
      "\u001b[0;32m<ipython-input-155-c6ad95646f64>\u001b[0m in \u001b[0;36m__call__\u001b[0;34m(self, u_0)\u001b[0m\n\u001b[1;32m     39\u001b[0m         \u001b[0;32mfor\u001b[0m \u001b[0m_\u001b[0m \u001b[0;32min\u001b[0m \u001b[0mrange\u001b[0m\u001b[0;34m(\u001b[0m\u001b[0mself\u001b[0m\u001b[0;34m.\u001b[0m\u001b[0mnum_steps\u001b[0m\u001b[0;34m)\u001b[0m\u001b[0;34m:\u001b[0m\u001b[0;34m\u001b[0m\u001b[0;34m\u001b[0m\u001b[0m\n\u001b[1;32m     40\u001b[0m             \u001b[0mobj_value_history\u001b[0m\u001b[0;34m.\u001b[0m\u001b[0mappend\u001b[0m\u001b[0;34m(\u001b[0m\u001b[0mfloat\u001b[0m\u001b[0;34m(\u001b[0m\u001b[0mcp\u001b[0m\u001b[0;34m.\u001b[0m\u001b[0masnumpy\u001b[0m\u001b[0;34m(\u001b[0m\u001b[0mself\u001b[0m\u001b[0;34m.\u001b[0m\u001b[0mobjective_value\u001b[0m\u001b[0;34m(\u001b[0m\u001b[0mu\u001b[0m\u001b[0;34m)\u001b[0m\u001b[0;34m)\u001b[0m\u001b[0;34m)\u001b[0m\u001b[0;34m)\u001b[0m\u001b[0;34m\u001b[0m\u001b[0;34m\u001b[0m\u001b[0m\n\u001b[0;32m---> 41\u001b[0;31m             \u001b[0mu_next\u001b[0m \u001b[0;34m=\u001b[0m \u001b[0mu\u001b[0m \u001b[0;34m-\u001b[0m \u001b[0mself\u001b[0m\u001b[0;34m.\u001b[0m\u001b[0mstep_size\u001b[0m \u001b[0;34m*\u001b[0m \u001b[0mself\u001b[0m\u001b[0;34m.\u001b[0m\u001b[0mdiff_lambda_max\u001b[0m\u001b[0;34m(\u001b[0m\u001b[0mself\u001b[0m\u001b[0;34m.\u001b[0m\u001b[0mAu\u001b[0m\u001b[0;34m(\u001b[0m\u001b[0mu\u001b[0m\u001b[0;34m)\u001b[0m\u001b[0;34m)\u001b[0m\u001b[0;34m\u001b[0m\u001b[0;34m\u001b[0m\u001b[0m\n\u001b[0m\u001b[1;32m     42\u001b[0m             \u001b[0mu\u001b[0m \u001b[0;34m=\u001b[0m \u001b[0mself\u001b[0m\u001b[0;34m.\u001b[0m\u001b[0mprojection_Q\u001b[0m\u001b[0;34m(\u001b[0m\u001b[0mu_next\u001b[0m\u001b[0;34m)\u001b[0m\u001b[0;34m\u001b[0m\u001b[0;34m\u001b[0m\u001b[0m\n\u001b[1;32m     43\u001b[0m \u001b[0;34m\u001b[0m\u001b[0m\n",
      "\u001b[0;32mcupy/core/core.pyx\u001b[0m in \u001b[0;36mcupy.core.core.ndarray.__sub__\u001b[0;34m()\u001b[0m\n",
      "\u001b[0;32mcupy/core/_kernel.pyx\u001b[0m in \u001b[0;36mcupy.core._kernel.ufunc.__call__\u001b[0;34m()\u001b[0m\n",
      "\u001b[0;32mcupy/core/_kernel.pyx\u001b[0m in \u001b[0;36mcupy.core._kernel._preprocess_args\u001b[0;34m()\u001b[0m\n",
      "\u001b[0;31mTypeError\u001b[0m: Unsupported type <class 'numpy.ndarray'>"
     ]
    }
   ],
   "source": [
    "%%time\n",
    "\n",
    "np.random.seed(1)\n",
    "u_0 = np.random.randn(n)\n",
    "solver = MaxCutSubGradientSolverGPU(L,\n",
    "    step_size = 1e3,\n",
    "    num_steps = 100,\n",
    "    eig_method = 'gpu',)\n",
    "solver.num_powers = 10\n",
    "#y_base = picos_solve_maxcut(L, \"cvxopt\", 0)\n",
    "history  = np.array(solver(u_0)) \n",
    "plt.plot(history)\n",
    "#plt.axhline(y_base ,ls='--', c='r')\n",
    "# plt.yscale('log')\n",
    "#plt.ylim(y_base, 1.00001*y_base)\n",
    "print(\"{:.2f}%\".format( (history[-1]/y_base - 1) * 100))\n",
    "print(history[-1], ' - ', y_base)"
   ]
  },
  {
   "cell_type": "code",
   "execution_count": 85,
   "metadata": {},
   "outputs": [
    {
     "data": {
      "text/plain": [
       "[<matplotlib.lines.Line2D object at 0x7f61572865f8>]"
      ]
     },
     "execution_count": 85,
     "metadata": {},
     "output_type": "execute_result"
    },
    {
     "data": {
      "image/png": "[encoded data removed]",
      "text/plain": [
       "<Figure size 432x288 with 1 Axes>"
      ]
     },
     "metadata": {},
     "output_type": "display_data"
    }
   ],
   "source": [
    "plt.plot(history)\n"
   ]
  },
  {
   "cell_type": "code",
   "execution_count": 82,
   "metadata": {},
   "outputs": [
    {
     "data": {
      "text/plain": [
       "array([23.51824853, 22.15435339, 22.73293417, 23.99508938, 23.62175417])"
      ]
     },
     "execution_count": 82,
     "metadata": {},
     "output_type": "execute_result"
    }
   ],
   "source": [
    "projection_Q(projection_Q(u_0))"
   ]
  },
  {
   "cell_type": "code",
   "execution_count": 71,
   "metadata": {},
   "outputs": [
    {
     "data": {
      "text/plain": [
       "array([0.00154775, 0.05340828, 0.00517162, 0.17716409, 0.76270826])"
      ]
     },
     "execution_count": 71,
     "metadata": {},
     "output_type": "execute_result"
    }
   ],
   "source": [
    "u_0 = np.random.randn(n)\n",
    "Au = lambda u: np.diag(u) + L\n",
    "diff_lambda_max(Au(u_0))"
   ]
  },
  {
   "cell_type": "code",
   "execution_count": 74,
   "metadata": {},
   "outputs": [
    {
     "data": {
      "text/plain": [
       "[0.0015478018955406014,\n",
       " 0.05341004553294226,\n",
       " 0.005171942367709903,\n",
       " 0.1771739348388479,\n",
       " 0.7627179209190871]"
      ]
     },
     "execution_count": 74,
     "metadata": {},
     "output_type": "execute_result"
    }
   ],
   "source": [
    "e = np.eye(n)\n",
    "eps = 1e-4\n",
    "[(lambda_max(Au(u_0 + eps*e[:, i])) - lambda_max(Au(u_0))) / eps for i in range(n)]"
   ]
  },
  {
   "cell_type": "code",
   "execution_count": 72,
   "metadata": {},
   "outputs": [
    {
     "data": {
      "text/plain": [
       "array([-0.45436567,  0.04575852, -0.18718385,  1.53277921,  1.46935877])"
      ]
     },
     "execution_count": 72,
     "metadata": {},
     "output_type": "execute_result"
    }
   ],
   "source": [
    "u_0 + e[:, 0]"
   ]
  },
  {
   "cell_type": "code",
   "execution_count": null,
   "metadata": {},
   "outputs": [],
   "source": []
  },
  {
   "cell_type": "code",
   "execution_count": null,
   "metadata": {},
   "outputs": [],
   "source": [
    "def projection_Q(u):\n",
    "    return np.array(u) - np.mean(u)\n",
    "\n",
    "def Au(u):\n",
    "    return np.diag(u) + L\n",
    "    \n",
    "def objective_value(u):\n",
    "    return n/4 * lambda_max(Au(u))\n",
    "    \n",
    "def lambda_max(A):\n",
    "    return max(np.linalg.eigvalsh(A))\n",
    "\n",
    "def top_eigenvec(A):\n",
    "    vals, vecs = np.linalg.eig(A)\n",
    "    idx = np.argmax(vals)\n",
    "    top_eigvec = vecs[:, idx]\n",
    "    return top_eigvec\n",
    "\n",
    "def diff_lambda_max(A):\n",
    "    top_eigvec = top_eigenvec(A)\n",
    "    return top_eigvec**2\n",
    "    \n",
    "    \n",
    "\n",
    "def subgradient_method(u_0, step_size, num_steps):\n",
    "    u = u_0\n",
    "    obj_value_history = []\n",
    "    \n",
    "    for _ in range(num_steps):\n",
    "        obj_value_history.append(Au(u))\n",
    "        u = projection_Q(u - step_size * diff_lambda_max(Au(u)))\n",
    "    \n",
    "    return obj_value_history\n",
    "\n",
    "np.random.seed(0)\n",
    "u_0 = np.random.randn(n)\n",
    "step_size = 1.\n",
    "num_steps = 10\n",
    "y_base = picos_solve_maxcut(L, \"cvxopt\", 0)\n",
    "plt.plot(np.array(subgradient_method(u_0, step_size, num_steps)) - y_base)\n",
    "plt.yscale('log')\n",
    "\n",
    "\n",
    "\n"
   ]
  }
 ],
 "metadata": {
  "kernelspec": {
   "display_name": "Python 3",
   "language": "python",
   "name": "python3"
  },
  "language_info": {
   "codemirror_mode": {
    "name": "ipython",
    "version": 3
   },
   "file_extension": ".py",
   "mimetype": "text/x-python",
   "name": "python",
   "nbconvert_exporter": "python",
   "pygments_lexer": "ipython3",
   "version": "3.7.3"
  },
  "varInspector": {
   "cols": {
    "lenName": 16,
    "lenType": 16,
    "lenVar": 40
   },
   "kernels_config": {
    "python": {
     "delete_cmd_postfix": "",
     "delete_cmd_prefix": "del ",
     "library": "var_list.py",
     "varRefreshCmd": "print(var_dic_list())"
    },
    "r": {
     "delete_cmd_postfix": ") ",
     "delete_cmd_prefix": "rm(",
     "library": "var_list.r",
     "varRefreshCmd": "cat(var_dic_list()) "
    }
   },
   "types_to_exclude": [
    "module",
    "function",
    "builtin_function_or_method",
    "instance",
    "_Feature"
   ],
   "window_display": false
  }
 },
 "nbformat": 4,
 "nbformat_minor": 2
}
