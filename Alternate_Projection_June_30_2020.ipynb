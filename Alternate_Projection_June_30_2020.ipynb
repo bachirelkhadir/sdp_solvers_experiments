{
 "cells": [
  {
   "cell_type": "code",
   "execution_count": 3,
   "metadata": {},
   "outputs": [
    {
     "name": "stdout",
     "output_type": "stream",
     "text": [
      "n = 64\n"
     ]
    }
   ],
   "source": [
    "import time\n",
    "import numpy as np\n",
    "import picos as pic\n",
    "import matplotlib.pyplot as plt\n",
    "from scipy.io import mmread\n",
    "from scipy.linalg import sqrtm\n",
    "from tqdm.notebook import tqdm, trange\n",
    "import warnings\n",
    "warnings.filterwarnings('ignore')\n",
    "\n",
    "# generate random graph\n",
    "\n",
    "# n = 3\n",
    "# p = .5\n",
    "# np.random.seed(3)\n",
    "# A = (np.random.rand(n, n) > p).astype(float)\n",
    "# for i in range(n): \n",
    "#     A[i, i] = 0\n",
    "# for i in range(n): \n",
    "#     for j in range(i): \n",
    "#         A[i, j] = A[j, i]\n",
    "\n",
    "solver = 'mosek'\n",
    "verbosity = False\n",
    "A = mmread('graphs/hamming6-4.mtx')\n",
    "n = A.shape[0]\n",
    "print(\"n = {n}\".format(n=n))\n",
    "D = np.diag(np.sum(A, axis=int(0)))\n",
    "L = (D - A)#.astype(float)\n",
    "L = np.array(L)\n",
    "L\n",
    "C = L/4"
   ]
  },
  {
   "cell_type": "code",
   "execution_count": 4,
   "metadata": {},
   "outputs": [
    {
     "data": {
      "text/plain": [
       "22175.999999472868"
      ]
     },
     "execution_count": 4,
     "metadata": {},
     "output_type": "execute_result"
    }
   ],
   "source": [
    "def optimize_over_elliptope(C):\n",
    "    maxcut_problem = pic.Problem()\n",
    "    # Variables\n",
    "    X = pic.SymmetricVariable(\"X\", shape=int(n))\n",
    "\n",
    "    ## Objective\n",
    "    maxcut_problem.set_objective('max', (C|X))\n",
    "\n",
    "    ## Constraints\n",
    "    # X psd\n",
    "    maxcut_problem.add_constraint(X >> int(0))\n",
    "    # 1 on the diagonal\n",
    "    maxcut_problem.add_constraint(pic.maindiag(X) == int(1))\n",
    "\n",
    "    maxcut_problem.solve()\n",
    "\n",
    "    return maxcut_problem.value, np.array(X.value)\n",
    "\n",
    "#np.random.seed(0)\n",
    "#C = np.random.randn(3, 3)\n",
    "obj_value, opt_solution = optimize_over_elliptope(C)\n",
    "obj_value"
   ]
  },
  {
   "cell_type": "code",
   "execution_count": 39,
   "metadata": {
    "code_folding": []
   },
   "outputs": [],
   "source": [
    "from scipy import linalg\n",
    "\n",
    "\n",
    "def dot_matrix(A, B):\n",
    "    \"\"\" \n",
    "    Returns Tr(A @ B.T).\n",
    "    \"\"\"\n",
    "    assert A.shape == B.shape\n",
    "    return np.dot(A.flatten(), B.flatten())\n",
    "    \n",
    "    \n",
    "    \n",
    "def proj_linear_eq(G, A, b):\n",
    "    \"\"\"\n",
    "    Solves the least-squares problem\n",
    "    min ||X - G|| s.t. A(X) = b    \"\"\"\n",
    "    \n",
    "#     # todo: make less hardcoded\n",
    "#     G = G.copy()\n",
    "#     for i in range(len(G)):\n",
    "#         G[i, i] = 1.\n",
    "#     A = A[-1:]\n",
    "#     b = b[-1:]\n",
    "    \n",
    "    least_squares = pic.Problem()\n",
    "\n",
    "    n = len(A[0])\n",
    "    # Variables\n",
    "    X = pic.SymmetricVariable(\"X\", shape=int(n))\n",
    "\n",
    "    # objective\n",
    "    least_squares.set_objective('Min', pic.norm(X - G))\n",
    "    \n",
    "    ## Constraints\n",
    "    for Ai, bi in zip(A, b):\n",
    "        least_squares.add_constraint(Ai | X == bi)\n",
    "\n",
    "    least_squares.solve(solver=solver, verbosity=verbosity)\n",
    "    \n",
    "    return np.array(X.value)\n",
    "\n",
    "def proj_psd_cone(X):\n",
    "    s, Q = np.linalg.eig(X)\n",
    "    sigma = np.diag(np.maximum(s, 0))\n",
    "    return Q @ sigma @ Q.T\n",
    "    \n",
    "def alternate_proj_sdp_solver(A, b, X0, num_iters, \n",
    "                              X_history=None, \n",
    "                              Y_history=None):\n",
    "    \"\"\"\n",
    "    Solves the SDP feasibility Ai.X = bi, X psd using alternative projection\n",
    "    Args:\n",
    "    A: mxnxn tensor: List of matrices Ai\n",
    "    b: mx1 vector of the same size as A\n",
    "    X0: nxn matrix. Intial iteration feasible solution\n",
    "    \"\"\"\n",
    "    \n",
    "    Xk = X0\n",
    "    Yk = None\n",
    "    for k in trange(num_iters):\n",
    "        Yk = proj_linear_eq(Xk, A, b)\n",
    "        Xk = proj_psd_cone(Yk)\n",
    "\n",
    "        # save X_current\n",
    "        if X_history != None:\n",
    "            X_history.append(Xk)\n",
    "            Y_history.append(Yk)\n",
    "            \n",
    "    return Xk"
   ]
  },
  {
   "cell_type": "code",
   "execution_count": 51,
   "metadata": {},
   "outputs": [
    {
     "data": {
      "application/vnd.jupyter.widget-view+json": {
       "model_id": "b554261ccd084c10b653c9f335fe4e61",
       "version_major": 2,
       "version_minor": 0
      },
      "text/plain": [
       "HBox(children=(FloatProgress(value=0.0, max=64.0), HTML(value='')))"
      ]
     },
     "metadata": {},
     "output_type": "display_data"
    },
    {
     "name": "stdout",
     "output_type": "stream",
     "text": [
      "\n"
     ]
    }
   ],
   "source": [
    "# prepare data\n",
    "canonical_basis = np.eye(n)\n",
    "A = np.array([*[ei[:,None] @  ei[None, :] for ei in tqdm(canonical_basis)], C])\n",
    "b = np.array([*np.ones(n), 10*obj_value])"
   ]
  },
  {
   "cell_type": "code",
   "execution_count": 52,
   "metadata": {},
   "outputs": [
    {
     "data": {
      "application/vnd.jupyter.widget-view+json": {
       "model_id": "a2a70ecb578f49ddabdc44c340b2b141",
       "version_major": 2,
       "version_minor": 0
      },
      "text/plain": [
       "HBox(children=(FloatProgress(value=0.0), HTML(value='')))"
      ]
     },
     "metadata": {},
     "output_type": "display_data"
    },
    {
     "name": "stdout",
     "output_type": "stream",
     "text": [
      "\n"
     ]
    },
    {
     "data": {
      "text/plain": [
       "array([[10.00216026, 10.00339405, 10.00129427, ..., 10.00057969,\n",
       "        10.00280081, 10.00109004],\n",
       "       [10.00339405, 10.00462799, 10.00252796, ..., 10.00181329,\n",
       "        10.00403468, 10.0023237 ],\n",
       "       [10.00129427, 10.00252796, 10.00042836, ...,  9.99971384,\n",
       "        10.00193477, 10.00022415],\n",
       "       ...,\n",
       "       [10.00057969, 10.00181329,  9.99971384, ...,  9.99899938,\n",
       "        10.00122015,  9.99950965],\n",
       "       [10.00280081, 10.00403468, 10.00193477, ..., 10.00122015,\n",
       "        10.00344141, 10.00173053],\n",
       "       [10.00109004, 10.0023237 , 10.00022415, ...,  9.99950965,\n",
       "        10.00173053, 10.00001995]])"
      ]
     },
     "execution_count": 52,
     "metadata": {},
     "output_type": "execute_result"
    }
   ],
   "source": [
    "np.random.seed(0)\n",
    "X0 = np.random.randn(*A[0].shape)\n",
    "X_history = []\n",
    "Y_history = []\n",
    "alternate_proj_sdp_solver(A, b, X0, 100, X_history, Y_history)"
   ]
  },
  {
   "cell_type": "code",
   "execution_count": 53,
   "metadata": {},
   "outputs": [
    {
     "data": {
      "text/plain": [
       "<matplotlib.legend.Legend at 0x7f4799f0e400>"
      ]
     },
     "execution_count": 53,
     "metadata": {},
     "output_type": "execute_result"
    },
    {
     "data": {
      "image/png": "[encoded data removed]",
      "text/plain": [
       "<Figure size 432x288 with 1 Axes>"
      ]
     },
     "metadata": {},
     "output_type": "display_data"
    },
    {
     "data": {
      "image/png": "[encoded data removed]",
      "text/plain": [
       "<Figure size 432x288 with 1 Axes>"
      ]
     },
     "metadata": {},
     "output_type": "display_data"
    }
   ],
   "source": [
    "lmap = lambda f, L: np.array(list(map(f, L)))\n",
    "\n",
    "plt.plot(lmap(lambda X: -min(np.linalg.eigvals(X)), Y_history), label=r\"$-\\lambda_\\min(Y_k)$\")\n",
    "plt.yscale('log')\n",
    "plt.legend()\n",
    "\n",
    "\n",
    "plt.figure()\n",
    "plt.plot(lmap(lambda X: max([abs(dot_matrix(Ai, X) - bi) for Ai, bi in zip(A, b)]) , X_history), \n",
    "         label=r\"$\\max_i |A_i \\cdot X - bi|$\")\n",
    "\n",
    "plt.yscale('log')\n",
    "plt.legend()"
   ]
  },
  {
   "cell_type": "code",
   "execution_count": 125,
   "metadata": {},
   "outputs": [
    {
     "data": {
      "text/plain": [
       "((65, 64, 64), (65,))"
      ]
     },
     "execution_count": 125,
     "metadata": {},
     "output_type": "execute_result"
    }
   ],
   "source": []
  },
  {
   "cell_type": "code",
   "execution_count": 86,
   "metadata": {},
   "outputs": [],
   "source": [
    "# tests\n",
    "from scipy.stats import ortho_group\n",
    "\n",
    "D = np.diag([-10, 2, 3, -5])\n",
    "Q = ortho_group.rvs(len(D))\n",
    "G = Q @ D @ Q.T\n",
    "pi_G = proj_psd_cone(G)\n",
    "assert np.allclose(np.maximum(sorted(np.linalg.eigvals(G)), 0),\n",
    "            sorted(np.linalg.eigvals(pi_G)))"
   ]
  },
  {
   "cell_type": "code",
   "execution_count": 76,
   "metadata": {},
   "outputs": [
    {
     "data": {
      "text/plain": [
       "array([[ 2.12247214,  0.28815291, -2.45458973,  1.35249315],\n",
       "       [ 0.28815291, -5.91862225,  4.09525718,  1.90326747],\n",
       "       [-2.45458973,  4.09525718, -5.13156329,  2.67587409],\n",
       "       [ 1.35249315,  1.90326747,  2.67587409, -1.07228659]])"
      ]
     },
     "execution_count": 76,
     "metadata": {},
     "output_type": "execute_result"
    }
   ],
   "source": [
    "G"
   ]
  },
  {
   "cell_type": "code",
   "execution_count": 77,
   "metadata": {},
   "outputs": [
    {
     "data": {
      "text/plain": [
       "array([[ 2.12247214,  0.28815291, -2.45458973,  1.35249315],\n",
       "       [ 0.28815291, -5.91862225,  4.09525718,  1.90326747],\n",
       "       [-2.45458973,  4.09525718, -5.13156329,  2.67587409],\n",
       "       [ 1.35249315,  1.90326747,  2.67587409, -1.07228659]])"
      ]
     },
     "execution_count": 77,
     "metadata": {},
     "output_type": "execute_result"
    }
   ],
   "source": [
    "DD, QQ = np.linalg.eig(G)\n",
    "QQ @ np.diag(DD) @ QQ.T"
   ]
  },
  {
   "cell_type": "code",
   "execution_count": 69,
   "metadata": {},
   "outputs": [
    {
     "data": {
      "text/plain": [
       "array([[ 0.68479448, -0.41485361, -0.5975199 ,  0.04385166],\n",
       "       [-0.52657819, -0.84885016, -0.01731341, -0.04323257],\n",
       "       [-0.07316741, -0.00526037, -0.00701218,  0.99728115],\n",
       "       [ 0.49841595, -0.3276007 ,  0.80163648,  0.04047577]])"
      ]
     },
     "execution_count": 69,
     "metadata": {},
     "output_type": "execute_result"
    }
   ],
   "source": [
    "QQ.T"
   ]
  }
 ],
 "metadata": {
  "kernelspec": {
   "display_name": "Python 3",
   "language": "python",
   "name": "python3"
  },
  "language_info": {
   "codemirror_mode": {
    "name": "ipython",
    "version": 3
   },
   "file_extension": ".py",
   "mimetype": "text/x-python",
   "name": "python",
   "nbconvert_exporter": "python",
   "pygments_lexer": "ipython3",
   "version": "3.7.3"
  },
  "varInspector": {
   "cols": {
    "lenName": 16,
    "lenType": 16,
    "lenVar": 40
   },
   "kernels_config": {
    "python": {
     "delete_cmd_postfix": "",
     "delete_cmd_prefix": "del ",
     "library": "var_list.py",
     "varRefreshCmd": "print(var_dic_list())"
    },
    "r": {
     "delete_cmd_postfix": ") ",
     "delete_cmd_prefix": "rm(",
     "library": "var_list.r",
     "varRefreshCmd": "cat(var_dic_list()) "
    }
   },
   "types_to_exclude": [
    "module",
    "function",
    "builtin_function_or_method",
    "instance",
    "_Feature"
   ],
   "window_display": false
  }
 },
 "nbformat": 4,
 "nbformat_minor": 2
}
